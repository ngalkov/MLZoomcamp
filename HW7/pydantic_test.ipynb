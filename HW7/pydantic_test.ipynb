{
 "cells": [
  {
   "cell_type": "code",
   "execution_count": 1,
   "id": "6bd9a861",
   "metadata": {},
   "outputs": [],
   "source": [
    "from pydantic import BaseModel, StrictStr"
   ]
  },
  {
   "cell_type": "code",
   "execution_count": 2,
   "id": "ffc437cd",
   "metadata": {},
   "outputs": [],
   "source": [
    "class UserProfile(BaseModel):\n",
    "    name: StrictStr\n",
    "    age: int\n",
    "    country: StrictStr\n",
    "    rating: float"
   ]
  },
  {
   "cell_type": "code",
   "execution_count": 3,
   "id": "479a275f",
   "metadata": {},
   "outputs": [],
   "source": [
    "user_data = {\n",
    "  \"name\": \"Tim\",\n",
    "  \"age\": 37,\n",
    "  \"country\": \"US\",\n",
    "  \"rating\": 3.14\n",
    "}"
   ]
  },
  {
   "cell_type": "code",
   "execution_count": 4,
   "id": "66b1785f",
   "metadata": {},
   "outputs": [],
   "source": [
    "user = UserProfile(**user_data)"
   ]
  },
  {
   "cell_type": "code",
   "execution_count": 5,
   "id": "d4105c11",
   "metadata": {},
   "outputs": [
    {
     "data": {
      "text/plain": [
       "UserProfile(name='Tim', age=37, country='US', rating=3.14)"
      ]
     },
     "execution_count": 5,
     "metadata": {},
     "output_type": "execute_result"
    }
   ],
   "source": [
    "user"
   ]
  },
  {
   "cell_type": "code",
   "execution_count": null,
   "id": "8318b323",
   "metadata": {},
   "outputs": [],
   "source": []
  }
 ],
 "metadata": {
  "kernelspec": {
   "display_name": "Python 3 (ipykernel)",
   "language": "python",
   "name": "python3"
  },
  "language_info": {
   "codemirror_mode": {
    "name": "ipython",
    "version": 3
   },
   "file_extension": ".py",
   "mimetype": "text/x-python",
   "name": "python",
   "nbconvert_exporter": "python",
   "pygments_lexer": "ipython3",
   "version": "3.9.10"
  }
 },
 "nbformat": 4,
 "nbformat_minor": 5
}
